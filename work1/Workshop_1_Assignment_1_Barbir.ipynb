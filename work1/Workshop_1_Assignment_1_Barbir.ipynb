{
 "cells": [
  {
   "cell_type": "markdown",
   "metadata": {},
   "source": [
    "### 28.04.25, Barbir Vladyslav KI-21-1"
   ]
  },
  {
   "cell_type": "markdown",
   "metadata": {},
   "source": [
    "Source: https://github.com/https-deeplearning-ai/tensorflow-1-public"
   ]
  },
  {
   "cell_type": "markdown",
   "metadata": {
    "id": "mw2VBrBcgvGa"
   },
   "source": [
    "# Workshop 1 Assignment 1: Housing Prices\n",
    "\n",
    "In this exercise you'll try to build a neural network that predicts the price of a house according to a simple formula.\n",
    "\n",
    "Imagine that house pricing is as easy as:\n",
    "\n",
    "A house has a base cost of 50k, and every additional bedroom adds a cost of 50k. This will make a 1 bedroom house cost 100k, a 2 bedroom house cost 150k etc.\n",
    "\n",
    "How would you create a neural network that learns this relationship so that it would predict a 7 bedroom house as costing close to 400k etc.\n",
    "\n",
    "Hint: Your network might work better if you scale the house price down. You don't have to give the answer 400...it might be better to create something that predicts the number 4, and then your answer is in the 'hundreds of thousands' etc."
   ]
  },
  {
   "cell_type": "code",
   "execution_count": 15,
   "metadata": {
    "id": "PUNO2E6SeURH",
    "tags": []
   },
   "outputs": [],
   "source": [
    "import tensorflow as tf\n",
    "import numpy as np"
   ]
  },
  {
   "cell_type": "code",
   "execution_count": 16,
   "metadata": {
    "id": "B-74xrKrBqGJ",
    "tags": []
   },
   "outputs": [],
   "source": [
    "# GRADED FUNCTION: house_model\n",
    "def house_model():\n",
    "    ### START CODE HERE\n",
    "\n",
    "    # Define input and output tensors with the values for houses with 1 up to 6 bedrooms\n",
    "    # Hint: Remember to explictly set the dtype as float\n",
    "    # xs: Number of bedrooms (features)\n",
    "    xs = np.array([1.0, 2.0, 3.0, 4.0, 5.0, 6.0], dtype=float)\n",
    "\n",
    "    # ys: House price in hundreds of thousands (labels, scaled according to hint)\n",
    "    # Original prices: 100k, 150k, 200k, 250k, 300k, 350k\n",
    "    # Scaled prices: 1.0, 1.5, 2.0, 2.5, 3.0, 3.5\n",
    "    ys = np.array([1.0, 1.5, 2.0, 2.5, 3.0, 3.5], dtype=float)\n",
    "\n",
    "    # Define your model (should be a model with 1 dense layer and 1 unit)\n",
    "    # A Sequential model is suitable for a plain stack of layers\n",
    "    # Dense layer with 1 unit (neuron) because we want a single output value (price)\n",
    "    # input_shape=[1] because each input sample has only one feature (number of bedrooms)\n",
    "    model = tf.keras.Sequential([\n",
    "        tf.keras.layers.Dense(units=1, input_shape=[1])\n",
    "    ])\n",
    "\n",
    "    # Compile your model\n",
    "    # Set the optimizer to Stochastic Gradient Descent (sgd)\n",
    "    # and use Mean Squared Error (mean_squared_error) as the loss function, common for regression\n",
    "    model.compile(optimizer='sgd', loss='mean_squared_error')\n",
    "\n",
    "    # Train your model for 1000 epochs by feeding the i/o tensors\n",
    "    # An epoch is one pass through the entire training dataset\n",
    "    # verbose=0 can be added to hide the training progress for each epoch if desired\n",
    "    model.fit(xs, ys, epochs=1000, verbose=0) # Setting verbose=0 to avoid printing 1000 lines\n",
    "\n",
    "    ### END CODE HERE\n",
    "    return model\n"
   ]
  },
  {
   "cell_type": "markdown",
   "metadata": {},
   "source": [
    "Now that you have a function that returns a compiled and trained model when invoked, use it to get the model to predict the price of houses: "
   ]
  },
  {
   "cell_type": "code",
   "execution_count": null,
   "metadata": {
    "tags": []
   },
   "outputs": [],
   "source": [
    "# Get your trained model\n",
    "model = tf.keras.Sequential([\n",
    "    tf.keras.Input(shape=[1]), \n",
    "    tf.keras.layers.Dense(units=1) \n",
    "])"
   ]
  },
  {
   "cell_type": "markdown",
   "metadata": {},
   "source": [
    "Now that your model has finished training it is time to test it out! You can do so by running the next cell."
   ]
  },
  {
   "cell_type": "code",
   "execution_count": null,
   "metadata": {
    "id": "kMlInDdSBqGK",
    "tags": []
   },
   "outputs": [
    {
     "name": "stdout",
     "output_type": "stream",
     "text": [
      "\u001b[1m1/1\u001b[0m \u001b[32m━━━━━━━━━━━━━━━━━━━━\u001b[0m\u001b[37m\u001b[0m \u001b[1m0s\u001b[0m 114ms/step\n",
      "[-6.145397]\n"
     ]
    }
   ],
   "source": [
    "new_y = 7.0\n",
    "prediction_output = model.predict(np.array([new_y]))\n",
    "prediction = prediction_output[0]\n",
    "print(prediction)"
   ]
  },
  {
   "cell_type": "markdown",
   "metadata": {},
   "source": [
    "If everything went as expected you should see a prediction value very close to 4. **If not, try adjusting your code before submitting the assignment.** Notice that you can play around with the value of `new_y` to get different predictions. In general you should see that the network was able to learn the linear relationship between `x` and `y`, so if you use a value of 8.0 you should get a prediction close to 4.5 and so on."
   ]
  }
 ],
 "metadata": {
  "kernelspec": {
   "display_name": "Python [conda env:base] *",
   "language": "python",
   "name": "conda-base-py"
  },
  "language_info": {
   "codemirror_mode": {
    "name": "ipython",
    "version": 3
   },
   "file_extension": ".py",
   "mimetype": "text/x-python",
   "name": "python",
   "nbconvert_exporter": "python",
   "pygments_lexer": "ipython3",
   "version": "3.12.7"
  }
 },
 "nbformat": 4,
 "nbformat_minor": 4
}
