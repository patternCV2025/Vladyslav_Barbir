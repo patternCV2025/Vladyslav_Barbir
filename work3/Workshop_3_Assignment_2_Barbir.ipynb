{
 "cells": [
  {
   "cell_type": "markdown",
   "id": "04566ca4",
   "metadata": {},
   "source": [
    "### 28.04.25, © Dmytro Sokhin KI-21-1, 2025"
   ]
  },
  {
   "cell_type": "markdown",
   "id": "82fbd16f",
   "metadata": {},
   "source": [
    "Source: https://github.com/https-deeplearning-ai/tensorflow-1-public"
   ]
  },
  {
   "cell_type": "markdown",
   "id": "a10bc2ee",
   "metadata": {
    "id": "AuW-xg_bTsaF"
   },
   "source": [
    "# Workshop 3 Assignment 1: Using CNN's with the Cats vs Dogs Dataset\n",
    "\n",
    "You will be using the famous `Cats vs Dogs` dataset to train a model that can classify images of dogs from images of cats. For this, you will create your own Convolutional Neural Network in Tensorflow and leverage Keras' image preprocessing utilities.\n",
    "\n",
    "You will also create some helper functions to move the images around the filesystem so if you are not familiar with the `os` module be sure to take a look a the [docs](https://docs.python.org/3/library/os.html).\n",
    "\n",
    "Let's get started!"
   ]
  },
  {
   "cell_type": "markdown",
   "id": "7dd65c4f",
   "metadata": {},
   "source": [
    "_**NOTE:** To prevent errors from the autograder, please avoid editing or deleting non-graded cells in this notebook . Please only put your solutions in between the `### START CODE HERE` and `### END CODE HERE` code comments, and refrain from adding any new cells._"
   ]
  },
  {
   "cell_type": "code",
   "execution_count": 38,
   "id": "d43abc49",
   "metadata": {
    "id": "dn-6c02VmqiN",
    "tags": []
   },
   "outputs": [],
   "source": [
    "# grader-required-cell\n",
    "\n",
    "import os\n",
    "import zipfile\n",
    "import random\n",
    "import shutil\n",
    "import tensorflow as tf\n",
    "from tensorflow.keras.preprocessing.image import ImageDataGenerator\n",
    "from tensorflow.keras.optimizers import RMSprop \n",
    "from tensorflow.keras import layers, models \n",
    "from shutil import copyfile\n",
    "import matplotlib.pyplot as plt\n",
    "import requests\n",
    "from tqdm.notebook import tqdm \n",
    "import urllib3\n",
    "import glob"
   ]
  },
  {
   "cell_type": "markdown",
   "id": "0000eebe",
   "metadata": {
    "id": "bLTQd84RUs1j"
   },
   "source": [
    "Download the dataset from its original source by running the cell below. \n",
    "\n",
    "Note that the `zip` file that contains the images is unzipped under the `/data` directory."
   ]
  },
  {
   "cell_type": "code",
   "execution_count": 3,
   "id": "dfe8528d",
   "metadata": {
    "id": "3sd9dQWa23aj",
    "lines_to_next_cell": 2,
    "tags": []
   },
   "outputs": [
    {
     "name": "stdout",
     "output_type": "stream",
     "text": [
      "Will save zip to: c:\\Users\\user\\Downloads\\Workshop\\data\\cats-and-dogs.zip\n",
      "Will extract to: c:\\Users\\user\\Downloads\\Workshop\\data\n",
      "Starting download...\n"
     ]
    },
    {
     "data": {
      "application/vnd.jupyter.widget-view+json": {
       "model_id": "d0fa616e69634233ac70125e4723c699",
       "version_major": 2,
       "version_minor": 0
      },
      "text/plain": [
       "  0%|          | 0.00/825M [00:00<?, ?iB/s]"
      ]
     },
     "metadata": {},
     "output_type": "display_data"
    },
    {
     "name": "stdout",
     "output_type": "stream",
     "text": [
      "Download completed successfully: ./data/cats-and-dogs.zip\n",
      "Extracting zip file...\n",
      "Successfully extracted to ./data/\n"
     ]
    }
   ],
   "source": [
    "# If the URL doesn't work, visit https://www.microsoft.com/en-us/download/confirmation.aspx?id=54765\n",
    "# And right click on the 'Download Manually' link to get a new URL to the dataset\n",
    "\n",
    "# Note: This is a very large dataset and will take some time to download\n",
    "\n",
    "url = \"https://download.microsoft.com/download/3/E/1/3E1C3F21-ECDB-4869-8368-6DEBA77B919F/kagglecatsanddogs_5340.zip\"\n",
    "\n",
    "\n",
    "base_dir = './data/'\n",
    "zip_save_path = os.path.join(base_dir, 'cats-and-dogs.zip')\n",
    "extract_path = base_dir \n",
    "\n",
    "os.makedirs(base_dir, exist_ok=True)\n",
    "print(f\"Will save zip to: {os.path.abspath(zip_save_path)}\")\n",
    "print(f\"Will extract to: {os.path.abspath(extract_path)}\")\n",
    "\n",
    "try:\n",
    "    print(\"Starting download...\")\n",
    "    response = requests.get(url, stream=True) \n",
    "    response.raise_for_status() \n",
    "    urllib3.disable_warnings(urllib3.exceptions.InsecureRequestWarning)\n",
    "\n",
    "    total_size = int(response.headers.get('content-length', 0))\n",
    "    block_size = 1024 \n",
    "\n",
    "    progress_bar = tqdm(total=total_size, unit='iB', unit_scale=True)\n",
    "    with open(zip_save_path, 'wb') as file:\n",
    "        for data in response.iter_content(block_size):\n",
    "            progress_bar.update(len(data))\n",
    "            file.write(data)\n",
    "    progress_bar.close()\n",
    "\n",
    "    if total_size != 0 and progress_bar.n != total_size:\n",
    "        print(\"ERROR, download size mismatch\")\n",
    "    else:\n",
    "        print(f\"Download completed successfully: {zip_save_path}\")\n",
    "\n",
    "        print(f\"Extracting zip file...\")\n",
    "        try:\n",
    "            with zipfile.ZipFile(zip_save_path, 'r') as zip_ref:\n",
    "                zip_ref.extractall(extract_path)\n",
    "            print(f\"Successfully extracted to {extract_path}\")\n",
    "\n",
    "        except zipfile.BadZipFile:\n",
    "            print(f\"ERROR: Failed to unzip file. It might be corrupted.\")\n",
    "        except Exception as e:\n",
    "            print(f\"An error occurred during extraction: {e}\")\n",
    "\n",
    "\n",
    "except requests.exceptions.RequestException as e:\n",
    "    print(f\"Error during download: {e}\")\n",
    "except Exception as e:\n",
    "    print(f\"An unexpected error occurred: {e}\")"
   ]
  },
  {
   "cell_type": "markdown",
   "id": "4dd9f52b",
   "metadata": {
    "id": "e_HsUV9WVJHL"
   },
   "source": [
    "Now the images are stored within the `/data/PetImages` directory. There is a subdirectory for each class, so one for dogs and one for cats."
   ]
  },
  {
   "cell_type": "code",
   "execution_count": 6,
   "id": "76034c9d",
   "metadata": {
    "id": "DM851ZmN28J3",
    "tags": []
   },
   "outputs": [
    {
     "name": "stdout",
     "output_type": "stream",
     "text": [
      "Using source path: c:\\Users\\user\\Downloads\\Workshop\\data\\PetImages\n",
      "Deleting non-JPG files...\n",
      "Deleting: ./data/PetImages\\Cat\\Thumbs.db\n",
      "Deleting: ./data/PetImages\\Dog\\Thumbs.db\n",
      "Deleted 2 non-JPG files.\n",
      "There are 12500 images of dogs.\n",
      "There are 12500 images of cats.\n"
     ]
    }
   ],
   "source": [
    "base_extracted_path = './data/' \n",
    "source_path = os.path.join(base_extracted_path, 'PetImages') \n",
    "\n",
    "if not os.path.isdir(source_path):\n",
    "    print(f\"ERROR: Directory '{source_path}' does not exist!\")\n",
    "    print(\"Please ensure the dataset was extracted correctly and the path is right.\")\n",
    "else:\n",
    "    print(f\"Using source path: {os.path.abspath(source_path)}\")\n",
    "\n",
    "    source_path_dogs = os.path.join(source_path, 'Dog')\n",
    "    source_path_cats = os.path.join(source_path, 'Cat')\n",
    "\n",
    "    print(\"Deleting non-JPG files...\")\n",
    "    files_deleted_count = 0\n",
    "    all_files = glob.glob(os.path.join(source_path, '**', '*'), recursive=True)\n",
    "\n",
    "    for file_path in all_files:\n",
    "        if os.path.isfile(file_path) and not file_path.lower().endswith(\".jpg\"):\n",
    "            print(f\"Deleting: {file_path}\")\n",
    "            try:\n",
    "                os.remove(file_path)\n",
    "                files_deleted_count += 1\n",
    "            except OSError as e:\n",
    "                print(f\"Error deleting file {file_path}: {e}\")\n",
    "\n",
    "    print(f\"Deleted {files_deleted_count} non-JPG files.\")\n",
    "\n",
    "    try:\n",
    "        num_dog_images = len([f for f in os.listdir(source_path_dogs) if os.path.isfile(os.path.join(source_path_dogs, f))])\n",
    "        print(f\"There are {num_dog_images} images of dogs.\")\n",
    "    except FileNotFoundError:\n",
    "        print(f\"ERROR: Dog directory not found at '{source_path_dogs}'\")\n",
    "    except Exception as e:\n",
    "        print(f\"An error occurred counting dog images: {e}\")\n",
    "\n",
    "    try:\n",
    "        num_cat_images = len([f for f in os.listdir(source_path_cats) if os.path.isfile(os.path.join(source_path_cats, f))])\n",
    "        print(f\"There are {num_cat_images} images of cats.\")\n",
    "    except FileNotFoundError:\n",
    "        print(f\"ERROR: Cat directory not found at '{source_path_cats}'\")\n",
    "    except Exception as e:\n",
    "        print(f\"An error occurred counting cat images: {e}\")"
   ]
  },
  {
   "cell_type": "markdown",
   "id": "1b32b528",
   "metadata": {
    "id": "G7dI86rmRGmC"
   },
   "source": [
    "**Expected Output:**\n",
    "\n",
    "```\n",
    "There are 12500 images of dogs.\n",
    "There are 12500 images of cats.\n",
    "```"
   ]
  },
  {
   "cell_type": "markdown",
   "id": "6753b45c",
   "metadata": {
    "id": "iFbMliudNIjW"
   },
   "source": [
    "You will need a directory for cats-v-dogs, and subdirectories for training\n",
    "and validation. These in turn will need subdirectories for 'cats' and 'dogs'. To accomplish this, complete the `create_train_val_dirs` below:"
   ]
  },
  {
   "cell_type": "code",
   "execution_count": 30,
   "id": "1e6c840a",
   "metadata": {
    "cellView": "code",
    "id": "F-QkLjxpmyK2",
    "tags": []
   },
   "outputs": [
    {
     "name": "stdout",
     "output_type": "stream",
     "text": [
      "Attempting to create structure in: c:\\Users\\user\\Downloads\\Workshop\\data\\cats-v-dogs\n"
     ]
    }
   ],
   "source": [
    "# grader-required-cell\n",
    "\n",
    "base_data_dir = './data/'\n",
    "root_dir = os.path.join(base_data_dir, 'cats-v-dogs')\n",
    "\n",
    "print(f\"Attempting to create structure in: {os.path.abspath(root_dir)}\") \n",
    "\n",
    "# GRADED FUNCTION: create_train_val_dirs \n",
    "def create_train_val_dirs(root_path):\n",
    "  \"\"\"\n",
    "  Creates directories for the train and validation sets\n",
    "  \n",
    "  Args:\n",
    "    root_path (string) - the base directory path to create subdirectories from\n",
    "  \n",
    "  Returns:\n",
    "    None\n",
    "  \"\"\"\n",
    "  ### START CODE HERE\n",
    "  training_dir_name = \"training\"\n",
    "  validation_dir_name = \"validation\"\n",
    "  cats_dir_name = \"cats\"\n",
    "  dogs_dir_name = \"dogs\"\n",
    "\n",
    "  training_dir_path = os.path.join(root_path, training_dir_name)\n",
    "  train_cats_dir_path = os.path.join(training_dir_path, cats_dir_name)\n",
    "  train_dogs_dir_path = os.path.join(training_dir_path, dogs_dir_name)\n",
    "\n",
    "  validation_dir_path = os.path.join(root_path, validation_dir_name)\n",
    "  validation_cats_dir_path = os.path.join(validation_dir_path, cats_dir_name)\n",
    "  validation_dogs_dir_path = os.path.join(validation_dir_path, dogs_dir_name)\n",
    "\n",
    "  os.makedirs(train_cats_dir_path)\n",
    "  os.makedirs(train_dogs_dir_path)\n",
    "  os.makedirs(validation_cats_dir_path)\n",
    "  os.makedirs(validation_dogs_dir_path)\n",
    "\n",
    "  print(f\"Directory structure created under {os.path.abspath(root_path)}\")\n",
    "  print(f\"- {os.path.abspath(training_dir_path)}\")\n",
    "  print(f\"  - {os.path.abspath(train_cats_dir_path)}\")\n",
    "  print(f\"  - {os.path.abspath(train_dogs_dir_path)}\")\n",
    "  print(f\"- {os.path.abspath(validation_dir_path)}\")\n",
    "  print(f\"  - {os.path.abspath(validation_cats_dir_path)}\")\n",
    "  print(f\"  - {os.path.abspath(validation_dogs_dir_path)}\")\n",
    "  ### END CODE HERE"
   ]
  },
  {
   "cell_type": "code",
   "execution_count": 32,
   "id": "08f735fe",
   "metadata": {
    "id": "5dhtL344OK00",
    "tags": []
   },
   "outputs": [
    {
     "name": "stdout",
     "output_type": "stream",
     "text": [
      "./data/cats-v-dogs\\cats\n",
      "./data/cats-v-dogs\\dogs\n",
      "./data/cats-v-dogs\\training\n",
      "./data/cats-v-dogs\\validation\n"
     ]
    }
   ],
   "source": [
    "# grader-required-cell\n",
    "\n",
    "# Test your create_train_val_dirs function\n",
    "\n",
    "for rootdir, dirs, files in os.walk(root_dir):\n",
    "    for subdir in dirs:\n",
    "        print(os.path.join(rootdir, subdir))"
   ]
  },
  {
   "cell_type": "markdown",
   "id": "09e13d4e",
   "metadata": {
    "id": "D7A0RK3IQsvg"
   },
   "source": [
    "**Expected Output (directory order might vary):**\n",
    "\n",
    "``` txt\n",
    "/tmp/cats-v-dogs/training\n",
    "/tmp/cats-v-dogs/validation\n",
    "/tmp/cats-v-dogs/training/cats\n",
    "/tmp/cats-v-dogs/training/dogs\n",
    "/tmp/cats-v-dogs/validation/cats\n",
    "/tmp/cats-v-dogs/validation/dogs\n",
    "\n",
    "```"
   ]
  },
  {
   "cell_type": "markdown",
   "id": "9413f4e5",
   "metadata": {
    "id": "R93T7HdE5txZ"
   },
   "source": [
    "Code the `split_data` function which takes in the following arguments:\n",
    "- SOURCE_DIR: directory containing the files\n",
    "\n",
    "- TRAINING_DIR: directory that a portion of the files will be copied to (will be used for training)\n",
    "- VALIDATION_DIR: directory that a portion of the files will be copied to (will be used for validation)\n",
    "- SPLIT_SIZE: determines the portion of images used for training.\n",
    "\n",
    "The files should be randomized, so that the training set is a random sample of the files, and the validation set is made up of the remaining files.\n",
    "\n",
    "For example, if `SOURCE_DIR` is `PetImages/Cat`, and `SPLIT_SIZE` is .9 then 90% of the images in `PetImages/Cat` will be copied to the `TRAINING_DIR` directory\n",
    "and 10% of the images will be copied to the `VALIDATION_DIR` directory.\n",
    "\n",
    "All images should be checked before the copy, so if they have a zero file length, they will be omitted from the copying process. If this is the case then your function should print out a message such as `\"filename is zero length, so ignoring.\"`. **You should perform this check before the split so that only non-zero images are considered when doing the actual split.**\n",
    "\n",
    "\n",
    "Hints:\n",
    "\n",
    "- `os.listdir(DIRECTORY)` returns a list with the contents of that directory.\n",
    "\n",
    "- `os.path.getsize(PATH)` returns the size of the file\n",
    "\n",
    "- `copyfile(source, destination)` copies a file from source to destination\n",
    "\n",
    "- `random.sample(list, len(list))` shuffles a list"
   ]
  },
  {
   "cell_type": "code",
   "execution_count": 33,
   "id": "e1c123a7",
   "metadata": {
    "cellView": "code",
    "id": "zvSODo0f9LaU",
    "tags": []
   },
   "outputs": [],
   "source": [
    "# grader-required-cell\n",
    "\n",
    "# GRADED FUNCTION: split_data\n",
    "def split_data(SOURCE_DIR, TRAINING_DIR, VALIDATION_DIR, SPLIT_SIZE):\n",
    "  \"\"\"\n",
    "  Splits the data into train and test sets\n",
    "  \n",
    "  Args:\n",
    "    SOURCE_DIR (string): directory path containing the images\n",
    "    TRAINING_DIR (string): directory path to be used for training\n",
    "    VALIDATION_DIR (string): directory path to be used for validation\n",
    "    SPLIT_SIZE (float): proportion of the dataset to be used for training\n",
    "    \n",
    "  Returns:\n",
    "    None\n",
    "  \"\"\"\n",
    "\n",
    "  ### START CODE HERE\n",
    "  \n",
    "  # Check if SOURCE_DIR exists\n",
    "  if not os.path.exists(SOURCE_DIR):\n",
    "      print(f\"ERROR: Source directory {SOURCE_DIR} does not exist.\")\n",
    "      return\n",
    "\n",
    "  # Get the list of all files in the source directory\n",
    "  all_files = os.listdir(SOURCE_DIR)\n",
    "  \n",
    "  # Filter out zero-length files and create a list of valid files (filenames only)\n",
    "  valid_files = []\n",
    "  ignored_count = 0\n",
    "  for filename in all_files:\n",
    "      filepath = os.path.join(SOURCE_DIR, filename)\n",
    "      # Ensure it's actually a file before checking size\n",
    "      if os.path.isfile(filepath):\n",
    "          if os.path.getsize(filepath) > 0:\n",
    "              valid_files.append(filename)\n",
    "          else:\n",
    "              print(f\"{filename} is zero length, so ignoring.\")\n",
    "              ignored_count += 1\n",
    "      # else: # Optional: Handle if there are subdirectories in SOURCE_DIR\n",
    "      #     print(f\"Ignoring non-file item: {filename}\")\n",
    "\n",
    "  num_total_valid_files = len(valid_files)\n",
    "  print(f\"Found {num_total_valid_files} valid files (ignored {ignored_count} zero-length files).\")\n",
    "\n",
    "  # Check if there are any valid files to split\n",
    "  if num_total_valid_files == 0:\n",
    "      print(\"No valid files to split.\")\n",
    "      return\n",
    "      \n",
    "  # Shuffle the list of valid files randomly\n",
    "  random.shuffle(valid_files) # Shuffles the list in place\n",
    "  \n",
    "  # Calculate the split index\n",
    "  split_index = int(num_total_valid_files * SPLIT_SIZE)\n",
    "  \n",
    "  # Slice the list to get training and validation sets\n",
    "  training_set = valid_files[:split_index]\n",
    "  validation_set = valid_files[split_index:]\n",
    "  \n",
    "  print(f\"Splitting into {len(training_set)} training files and {len(validation_set)} validation files.\")\n",
    "\n",
    "  # Ensure the destination directories exist (create them if needed)\n",
    "  os.makedirs(TRAINING_DIR, exist_ok=True)\n",
    "  os.makedirs(VALIDATION_DIR, exist_ok=True)\n",
    "\n",
    "  # Copy files to the TRAINING directory\n",
    "  copied_train = 0\n",
    "  for filename in training_set:\n",
    "      source_path = os.path.join(SOURCE_DIR, filename)\n",
    "      destination_path = os.path.join(TRAINING_DIR, filename)\n",
    "      try:\n",
    "          shutil.copyfile(source_path, destination_path)\n",
    "          copied_train += 1\n",
    "      except Exception as e:\n",
    "           print(f\"Error copying {filename} to training dir: {e}\")\n",
    "\n",
    "  # Copy files to the VALIDATION directory\n",
    "  copied_val = 0\n",
    "  for filename in validation_set:\n",
    "      source_path = os.path.join(SOURCE_DIR, filename)\n",
    "      destination_path = os.path.join(VALIDATION_DIR, filename)\n",
    "      try:\n",
    "        shutil.copyfile(source_path, destination_path)\n",
    "        copied_val += 1\n",
    "      except Exception as e:\n",
    "           print(f\"Error copying {filename} to validation dir: {e}\")\n",
    "\n",
    "  print(f\"Finished copying. {copied_train} files to training, {copied_val} files to validation.\")\n",
    "\n",
    "  ### END CODE HERE"
   ]
  },
  {
   "cell_type": "code",
   "execution_count": 35,
   "id": "7f488106",
   "metadata": {
    "id": "FlIdoUeX9S-9",
    "tags": []
   },
   "outputs": [
    {
     "name": "stdout",
     "output_type": "stream",
     "text": [
      "--- Starting Test Block for split_data (Using /data/ paths) ---\n",
      "\n",
      "Cleaning target directories (if they exist)...\n",
      "\n",
      "--- Splitting Cat Data ---\n",
      "666.jpg is zero length, so ignoring.\n",
      "Found 12499 valid files (ignored 1 zero-length files).\n",
      "Splitting into 11249 training files and 1250 validation files.\n",
      "Finished copying. 11249 files to training, 1250 files to validation.\n",
      "\n",
      "--- Splitting Dog Data ---\n",
      "11702.jpg is zero length, so ignoring.\n",
      "Found 12499 valid files (ignored 1 zero-length files).\n",
      "Splitting into 11249 training files and 1250 validation files.\n",
      "Finished copying. 11249 files to training, 1250 files to validation.\n",
      "\n",
      "--- Verification ---\n",
      "Original cat's directory has 12500 images\n",
      "Original dog's directory has 12500 images\n",
      "\n",
      "There are 11249 images of cats for training\n",
      "There are 11249 images of dogs for training\n",
      "There are 1250 images of cats for validation\n",
      "There are 1250 images of dogs for validation\n",
      "\n",
      "--- Test Block Finished ---\n"
     ]
    }
   ],
   "source": [
    "# grader-required-cell\n",
    "\n",
    "print(\"--- Starting Test Block for split_data (Using /data/ paths) ---\")\n",
    "\n",
    "\n",
    "SOURCE_DIR_BASE = os.path.join('data', 'PetImages') # Відносний шлях до PetImages\n",
    "TARGET_DIR_BASE = os.path.join('data', 'cats-v-dogs') # Відносний шлях до структурованої папки\n",
    "\n",
    "if not os.path.exists(SOURCE_DIR_BASE):\n",
    "    print(f\"ERROR: Base source directory '{SOURCE_DIR_BASE}' not found.\")\n",
    "    print(\"Please ensure the dataset was extracted correctly into '/data/PetImages/'.\")\n",
    "    CAT_SOURCE_DIR = None\n",
    "    DOG_SOURCE_DIR = None\n",
    "else:\n",
    "    CAT_SOURCE_DIR = os.path.join(SOURCE_DIR_BASE, \"Cat/\")\n",
    "    DOG_SOURCE_DIR = os.path.join(SOURCE_DIR_BASE, \"Dog/\")\n",
    "\n",
    "if not os.path.exists(TARGET_DIR_BASE):\n",
    "    print(f\"ERROR: Base target directory '{TARGET_DIR_BASE}' not found.\")\n",
    "    print(\"Please ensure the directory structure was created in '/data/cats-v-dogs/' using 'create_train_val_dirs'.\")\n",
    "    TRAINING_DIR = None\n",
    "    VALIDATION_DIR = None\n",
    "else:\n",
    "    TRAINING_DIR = os.path.join(TARGET_DIR_BASE, \"training/\")\n",
    "    VALIDATION_DIR = os.path.join(TARGET_DIR_BASE, \"validation/\")\n",
    "\n",
    "TRAINING_CATS_DIR = os.path.join(TRAINING_DIR, \"cats/\") if TRAINING_DIR else None\n",
    "VALIDATION_CATS_DIR = os.path.join(VALIDATION_DIR, \"cats/\") if VALIDATION_DIR else None\n",
    "TRAINING_DOGS_DIR = os.path.join(TRAINING_DIR, \"dogs/\") if TRAINING_DIR else None\n",
    "VALIDATION_DOGS_DIR = os.path.join(VALIDATION_DIR, \"dogs/\") if VALIDATION_DIR else None\n",
    "\n",
    "dirs_to_clean = [TRAINING_CATS_DIR, TRAINING_DOGS_DIR, VALIDATION_CATS_DIR, VALIDATION_DOGS_DIR]\n",
    "print(\"\\nCleaning target directories (if they exist)...\")\n",
    "for dir_path in dirs_to_clean:\n",
    "    if dir_path and os.path.exists(dir_path):\n",
    "        try:\n",
    "            file_count = 0\n",
    "            with os.scandir(dir_path) as entries:\n",
    "                for entry in entries:\n",
    "                    if entry.is_file():\n",
    "                        os.remove(entry.path)\n",
    "                        file_count += 1\n",
    "        except OSError as e:\n",
    "            print(f\"Error cleaning directory {dir_path}: {e}\")\n",
    "\n",
    "split_size = .9\n",
    "\n",
    "print(\"\\n--- Splitting Cat Data ---\")\n",
    "if CAT_SOURCE_DIR and TRAINING_CATS_DIR and VALIDATION_CATS_DIR:\n",
    "    if os.path.exists(CAT_SOURCE_DIR):\n",
    "        split_data(CAT_SOURCE_DIR, TRAINING_CATS_DIR, VALIDATION_CATS_DIR, split_size)\n",
    "    else:\n",
    "        print(f\"Skipping cat split: Source directory '{CAT_SOURCE_DIR}' not found.\")\n",
    "else:\n",
    "    print(\"Skipping cat split due to missing paths.\")\n",
    "\n",
    "print(\"\\n--- Splitting Dog Data ---\")\n",
    "if DOG_SOURCE_DIR and TRAINING_DOGS_DIR and VALIDATION_DOGS_DIR:\n",
    "    if os.path.exists(DOG_SOURCE_DIR):\n",
    "        split_data(DOG_SOURCE_DIR, TRAINING_DOGS_DIR, VALIDATION_DOGS_DIR, split_size)\n",
    "    else:\n",
    "        print(f\"Skipping dog split: Source directory '{DOG_SOURCE_DIR}' not found.\")\n",
    "else:\n",
    "     print(\"Skipping dog split due to missing paths.\")\n",
    "\n",
    "print(\"\\n--- Verification ---\")\n",
    "def count_files(directory):\n",
    "    if directory and os.path.exists(directory):\n",
    "        try:\n",
    "            return len([name for name in os.listdir(directory) if os.path.isfile(os.path.join(directory, name))])\n",
    "        except Exception as e:\n",
    "            print(f\"Error counting files in {directory}: {e}\")\n",
    "            return \"Error\"\n",
    "    return \"N/A (dir not found or path undefined)\"\n",
    "\n",
    "if CAT_SOURCE_DIR and os.path.exists(CAT_SOURCE_DIR):\n",
    "    print(f\"Original cat's directory has {count_files(CAT_SOURCE_DIR)} images\")\n",
    "else:\n",
    "    print(f\"Original cat's directory ({CAT_SOURCE_DIR}) not found for verification.\")\n",
    "\n",
    "if DOG_SOURCE_DIR and os.path.exists(DOG_SOURCE_DIR):\n",
    "     print(f\"Original dog's directory has {count_files(DOG_SOURCE_DIR)} images\\n\")\n",
    "else:\n",
    "    print(f\"Original dog's directory ({DOG_SOURCE_DIR}) not found for verification.\\n\")\n",
    "\n",
    "\n",
    "print(f\"There are {count_files(TRAINING_CATS_DIR)} images of cats for training\")\n",
    "print(f\"There are {count_files(TRAINING_DOGS_DIR)} images of dogs for training\")\n",
    "print(f\"There are {count_files(VALIDATION_CATS_DIR)} images of cats for validation\")\n",
    "print(f\"There are {count_files(VALIDATION_DOGS_DIR)} images of dogs for validation\")\n",
    "\n",
    "print(\"\\n--- Test Block Finished ---\")"
   ]
  },
  {
   "cell_type": "markdown",
   "id": "dbb2aedc",
   "metadata": {
    "id": "hvskJNOFVSaz"
   },
   "source": [
    "**Expected Output:**\n",
    "\n",
    "```\n",
    "666.jpg is zero length, so ignoring.\n",
    "11702.jpg is zero length, so ignoring.\n",
    "\n",
    "\n",
    "Original cat's directory has 12500 images\n",
    "Original dog's directory has 12500 images\n",
    "\n",
    "There are 11249 images of cats for training\n",
    "There are 11249 images of dogs for training\n",
    "There are 1250 images of cats for validation\n",
    "There are 1250 images of dogs for validation\n",
    "```"
   ]
  },
  {
   "cell_type": "markdown",
   "id": "32a30ba6",
   "metadata": {
    "id": "Zil4QmOD_mXF"
   },
   "source": [
    "Now that you have successfully organized the data in a way that can be easily fed to Keras' `ImageDataGenerator`, it is time for you to code the generators that will yield batches of images, both for training and validation. For this, complete the `train_val_generators` function below.\n",
    "\n",
    "Something important to note is that the images in this dataset come in a variety of resolutions. Luckily, the `flow_from_directory` method allows you to standarize this by defining a tuple called `target_size` that will be used to convert each image to this target resolution. **For this exercise, use a `target_size` of (150, 150)**.\n",
    "\n",
    "**Hint:** \n",
    "\n",
    "Don't use data augmentation by setting extra parameters when you instantiate the `ImageDataGenerator` class. This will make the training of your model to take longer to reach the necessary accuracy threshold to pass this assignment and this topic will be covered in the next week."
   ]
  },
  {
   "cell_type": "code",
   "execution_count": 36,
   "id": "24714cb2",
   "metadata": {
    "cellView": "code",
    "id": "fQrZfVgz4j2g",
    "tags": [
     "graded"
    ]
   },
   "outputs": [],
   "source": [
    "# grader-required-cell\n",
    "\n",
    "# GRADED FUNCTION: train_val_generators\n",
    "def train_val_generators(TRAINING_DIR, VALIDATION_DIR):\n",
    "  \"\"\"\n",
    "  Creates the training and validation data generators\n",
    "  \n",
    "  Args:\n",
    "    TRAINING_DIR (string): directory path containing the training images \n",
    "                           (should contain subdirectories for 'cats' and 'dogs')\n",
    "    VALIDATION_DIR (string): directory path containing the validation images\n",
    "                             (should contain subdirectories for 'cats' and 'dogs')\n",
    "    \n",
    "  Returns:\n",
    "    tuple containing the training and validation generators\n",
    "  \"\"\"\n",
    "  ### START CODE HERE\n",
    "\n",
    "  # Instantiate the ImageDataGenerator class for training data\n",
    "  # Rescale pixel values from [0, 255] to [0, 1]\n",
    "  train_datagen = ImageDataGenerator(rescale=1.0/255.0)\n",
    "\n",
    "  # Pass in the appropriate arguments to the flow_from_directory method\n",
    "  train_generator = train_datagen.flow_from_directory(\n",
    "      directory=TRAINING_DIR,       # Target directory for training images\n",
    "      batch_size=20,                # Size of batches to generate (a common choice)\n",
    "      class_mode='binary',          # For 2 classes (cats/dogs), returns 1D binary labels (0 or 1)\n",
    "      target_size=(150, 150)        # Resize all images to 150x150\n",
    "  )\n",
    "\n",
    "  # Instantiate the ImageDataGenerator class for validation data\n",
    "  # IMPORTANT: Only rescale validation data, do not apply augmentation\n",
    "  validation_datagen = ImageDataGenerator(rescale=1.0/255.0)\n",
    "\n",
    "  # Pass in the appropriate arguments to the flow_from_directory method\n",
    "  validation_generator = validation_datagen.flow_from_directory(\n",
    "      directory=VALIDATION_DIR,     # Target directory for validation images\n",
    "      batch_size=20,                # Size of batches (usually same as training)\n",
    "      class_mode='binary',          # For 2 classes\n",
    "      target_size=(150, 150)        # Resize all images to 150x150 (must match training)\n",
    "  )\n",
    "  ### END CODE HERE\n",
    "  return train_generator, validation_generator"
   ]
  },
  {
   "cell_type": "code",
   "execution_count": 37,
   "id": "0a13c894",
   "metadata": {
    "id": "qM7FxrjGiobD",
    "tags": []
   },
   "outputs": [
    {
     "name": "stdout",
     "output_type": "stream",
     "text": [
      "Found 22498 images belonging to 2 classes.\n",
      "Found 2500 images belonging to 2 classes.\n"
     ]
    }
   ],
   "source": [
    "# grader-required-cell\n",
    "\n",
    "# Test your generators\n",
    "train_generator, validation_generator = train_val_generators(TRAINING_DIR, VALIDATION_DIR)"
   ]
  },
  {
   "cell_type": "markdown",
   "id": "2992173c",
   "metadata": {
    "id": "tiPNmSfZjHwJ"
   },
   "source": [
    "**Expected Output:**\n",
    "\n",
    "```\n",
    "Found 22498 images belonging to 2 classes.\n",
    "Found 2500 images belonging to 2 classes.\n",
    "```\n"
   ]
  },
  {
   "cell_type": "markdown",
   "id": "4b01ac22",
   "metadata": {
    "id": "TI3oEmyQCZoO"
   },
   "source": [
    "One last step before training is to define the architecture of the model that will be trained.\n",
    "\n",
    "Complete the `create_model` function below which should return a Keras' `Sequential` model.\n",
    "\n",
    "Aside from defining the architecture of the model, you should also compile it so make sure to use a `loss` function that is compatible with the `class_mode` you defined in the previous exercise, which should also be compatible with the output of your network. You can tell if they aren't compatible if you get an error during training.\n",
    "\n",
    "**Note that you should use at least 3 convolution layers to achieve the desired performance.**"
   ]
  },
  {
   "cell_type": "code",
   "execution_count": 39,
   "id": "2141d195",
   "metadata": {
    "cellView": "code",
    "id": "oDPK8tUB_O9e",
    "lines_to_next_cell": 2,
    "tags": []
   },
   "outputs": [],
   "source": [
    "# grader-required-cell\n",
    "\n",
    "# GRADED FUNCTION: create_model\n",
    "def create_model():\n",
    "  # DEFINE A KERAS MODEL TO CLASSIFY CATS V DOGS\n",
    "  # USE AT LEAST 3 CONVOLUTION LAYERS\n",
    "\n",
    "  ### START CODE HERE\n",
    "\n",
    "  model = tf.keras.models.Sequential([\n",
    "      # Note the input shape is the desired size of the image 150x150 with 3 bytes color\n",
    "      # 1st convolution\n",
    "      tf.keras.layers.Conv2D(16, (3,3), activation='relu', input_shape=(150, 150, 3)),\n",
    "      tf.keras.layers.MaxPooling2D(2,2),\n",
    "      # 2nd convolution\n",
    "      tf.keras.layers.Conv2D(32, (3,3), activation='relu'),\n",
    "      tf.keras.layers.MaxPooling2D(2,2),\n",
    "      # 3rd convolution\n",
    "      tf.keras.layers.Conv2D(64, (3,3), activation='relu'),\n",
    "      tf.keras.layers.MaxPooling2D(2,2),\n",
    "      # Flatten the results to feed into a DNN\n",
    "      tf.keras.layers.Flatten(),\n",
    "      # 512 neuron hidden layer\n",
    "      tf.keras.layers.Dense(512, activation='relu'),\n",
    "      # Only 1 output neuron. It will contain a value from 0-1 where 0 for 1 class ('cats') and 1 for the other ('dogs')\n",
    "      # Sigmoid activation is used for binary classification\n",
    "      tf.keras.layers.Dense(1, activation='sigmoid')\n",
    "  ])\n",
    "\n",
    "  # Compile the model\n",
    "  model.compile(optimizer=RMSprop(learning_rate=0.001), \n",
    "                loss='binary_crossentropy', \n",
    "                metrics=['accuracy']) \n",
    "\n",
    "  ### END CODE HERE\n",
    "\n",
    "  return model"
   ]
  },
  {
   "cell_type": "markdown",
   "id": "5fe2ed9f",
   "metadata": {
    "id": "SMFNJZmTCZv6"
   },
   "source": [
    "Now it is time to train your model!\n",
    "\n",
    "**Note:** You can ignore the `UserWarning: Possibly corrupt EXIF data.` warnings."
   ]
  },
  {
   "cell_type": "code",
   "execution_count": 40,
   "id": "87cbef80",
   "metadata": {
    "id": "5qE1G6JB4fMn",
    "tags": []
   },
   "outputs": [
    {
     "name": "stderr",
     "output_type": "stream",
     "text": [
      "c:\\Users\\user\\AppData\\Local\\Programs\\Python\\Python312\\Lib\\site-packages\\keras\\src\\layers\\convolutional\\base_conv.py:107: UserWarning: Do not pass an `input_shape`/`input_dim` argument to a layer. When using Sequential models, prefer using an `Input(shape)` object as the first layer in the model instead.\n",
      "  super().__init__(activity_regularizer=activity_regularizer, **kwargs)\n",
      "c:\\Users\\user\\AppData\\Local\\Programs\\Python\\Python312\\Lib\\site-packages\\keras\\src\\trainers\\data_adapters\\py_dataset_adapter.py:121: UserWarning: Your `PyDataset` class should call `super().__init__(**kwargs)` in its constructor. `**kwargs` can include `workers`, `use_multiprocessing`, `max_queue_size`. Do not pass these arguments to `fit()`, as they will be ignored.\n",
      "  self._warn_if_super_not_called()\n"
     ]
    },
    {
     "name": "stdout",
     "output_type": "stream",
     "text": [
      "Epoch 1/15\n",
      "\u001b[1m  74/1125\u001b[0m \u001b[32m━\u001b[0m\u001b[37m━━━━━━━━━━━━━━━━━━━\u001b[0m \u001b[1m11:01\u001b[0m 629ms/step - accuracy: 0.5150 - loss: 1.1011"
     ]
    },
    {
     "name": "stderr",
     "output_type": "stream",
     "text": [
      "c:\\Users\\user\\AppData\\Local\\Programs\\Python\\Python312\\Lib\\site-packages\\PIL\\TiffImagePlugin.py:866: UserWarning: Truncated File Read\n",
      "  warnings.warn(str(msg))\n"
     ]
    },
    {
     "name": "stdout",
     "output_type": "stream",
     "text": [
      "\u001b[1m1125/1125\u001b[0m \u001b[32m━━━━━━━━━━━━━━━━━━━━\u001b[0m\u001b[37m\u001b[0m \u001b[1m766s\u001b[0m 678ms/step - accuracy: 0.6173 - loss: 0.6780 - val_accuracy: 0.7676 - val_loss: 0.4821\n",
      "Epoch 2/15\n",
      "\u001b[1m1125/1125\u001b[0m \u001b[32m━━━━━━━━━━━━━━━━━━━━\u001b[0m\u001b[37m\u001b[0m \u001b[1m627s\u001b[0m 558ms/step - accuracy: 0.7701 - loss: 0.4811 - val_accuracy: 0.8040 - val_loss: 0.4387\n",
      "Epoch 3/15\n",
      "\u001b[1m1125/1125\u001b[0m \u001b[32m━━━━━━━━━━━━━━━━━━━━\u001b[0m\u001b[37m\u001b[0m \u001b[1m657s\u001b[0m 584ms/step - accuracy: 0.8275 - loss: 0.3906 - val_accuracy: 0.8196 - val_loss: 0.4078\n",
      "Epoch 4/15\n",
      "\u001b[1m1125/1125\u001b[0m \u001b[32m━━━━━━━━━━━━━━━━━━━━\u001b[0m\u001b[37m\u001b[0m \u001b[1m657s\u001b[0m 584ms/step - accuracy: 0.8655 - loss: 0.3157 - val_accuracy: 0.8236 - val_loss: 0.3912\n",
      "Epoch 5/15\n",
      "\u001b[1m1125/1125\u001b[0m \u001b[32m━━━━━━━━━━━━━━━━━━━━\u001b[0m\u001b[37m\u001b[0m \u001b[1m650s\u001b[0m 577ms/step - accuracy: 0.9040 - loss: 0.2372 - val_accuracy: 0.8212 - val_loss: 0.4092\n",
      "Epoch 6/15\n",
      "\u001b[1m1125/1125\u001b[0m \u001b[32m━━━━━━━━━━━━━━━━━━━━\u001b[0m\u001b[37m\u001b[0m \u001b[1m661s\u001b[0m 558ms/step - accuracy: 0.9454 - loss: 0.1418 - val_accuracy: 0.8028 - val_loss: 0.6252\n",
      "Epoch 7/15\n",
      "\u001b[1m1125/1125\u001b[0m \u001b[32m━━━━━━━━━━━━━━━━━━━━\u001b[0m\u001b[37m\u001b[0m \u001b[1m664s\u001b[0m 590ms/step - accuracy: 0.9718 - loss: 0.0783 - val_accuracy: 0.8292 - val_loss: 0.7038\n",
      "Epoch 8/15\n",
      "\u001b[1m1125/1125\u001b[0m \u001b[32m━━━━━━━━━━━━━━━━━━━━\u001b[0m\u001b[37m\u001b[0m \u001b[1m650s\u001b[0m 577ms/step - accuracy: 0.9844 - loss: 0.0456 - val_accuracy: 0.8260 - val_loss: 0.9445\n",
      "Epoch 9/15\n",
      "\u001b[1m1125/1125\u001b[0m \u001b[32m━━━━━━━━━━━━━━━━━━━━\u001b[0m\u001b[37m\u001b[0m \u001b[1m668s\u001b[0m 565ms/step - accuracy: 0.9881 - loss: 0.0347 - val_accuracy: 0.8228 - val_loss: 1.2733\n",
      "Epoch 10/15\n",
      "\u001b[1m1125/1125\u001b[0m \u001b[32m━━━━━━━━━━━━━━━━━━━━\u001b[0m\u001b[37m\u001b[0m \u001b[1m665s\u001b[0m 591ms/step - accuracy: 0.9903 - loss: 0.0292 - val_accuracy: 0.8168 - val_loss: 1.2709\n",
      "Epoch 11/15\n",
      "\u001b[1m1125/1125\u001b[0m \u001b[32m━━━━━━━━━━━━━━━━━━━━\u001b[0m\u001b[37m\u001b[0m \u001b[1m650s\u001b[0m 577ms/step - accuracy: 0.9905 - loss: 0.0328 - val_accuracy: 0.8208 - val_loss: 1.3815\n",
      "Epoch 12/15\n",
      "\u001b[1m1125/1125\u001b[0m \u001b[32m━━━━━━━━━━━━━━━━━━━━\u001b[0m\u001b[37m\u001b[0m \u001b[1m659s\u001b[0m 557ms/step - accuracy: 0.9912 - loss: 0.0317 - val_accuracy: 0.8236 - val_loss: 1.5024\n",
      "Epoch 13/15\n",
      "\u001b[1m1125/1125\u001b[0m \u001b[32m━━━━━━━━━━━━━━━━━━━━\u001b[0m\u001b[37m\u001b[0m \u001b[1m683s\u001b[0m 558ms/step - accuracy: 0.9940 - loss: 0.0221 - val_accuracy: 0.8272 - val_loss: 1.7341\n",
      "Epoch 14/15\n",
      "\u001b[1m1125/1125\u001b[0m \u001b[32m━━━━━━━━━━━━━━━━━━━━\u001b[0m\u001b[37m\u001b[0m \u001b[1m689s\u001b[0m 564ms/step - accuracy: 0.9941 - loss: 0.0237 - val_accuracy: 0.8152 - val_loss: 1.9025\n",
      "Epoch 15/15\n",
      "\u001b[1m1125/1125\u001b[0m \u001b[32m━━━━━━━━━━━━━━━━━━━━\u001b[0m\u001b[37m\u001b[0m \u001b[1m653s\u001b[0m 580ms/step - accuracy: 0.9950 - loss: 0.0229 - val_accuracy: 0.8176 - val_loss: 1.9804\n"
     ]
    }
   ],
   "source": [
    "# Get the untrained model\n",
    "model = create_model()\n",
    "\n",
    "# Train the model\n",
    "# Note that this may take some time.\n",
    "history = model.fit(train_generator,\n",
    "                    epochs=15,\n",
    "                    verbose=1,\n",
    "                    validation_data=validation_generator)"
   ]
  },
  {
   "cell_type": "markdown",
   "id": "80ccc14c",
   "metadata": {
    "id": "VGsaDMc-GMd4"
   },
   "source": [
    "Once training has finished, you can run the following cell to check the training and validation accuracy achieved at the end of each epoch.\n",
    "\n",
    "**To pass this assignment, your model should achieve a training accuracy of at least 95% and a validation accuracy of at least 80%**. If your model didn't achieve these thresholds, try training again with a different model architecture and remember to use at least 3 convolutional layers."
   ]
  },
  {
   "cell_type": "code",
   "execution_count": 41,
   "id": "32146607",
   "metadata": {
    "id": "MWZrJN4-65RC",
    "tags": []
   },
   "outputs": [
    {
     "data": {
      "image/png": "[encoded data removed]",
      "text/plain": [
       "<Figure size 640x480 with 1 Axes>"
      ]
     },
     "metadata": {},
     "output_type": "display_data"
    },
    {
     "name": "stdout",
     "output_type": "stream",
     "text": [
      "\n"
     ]
    },
    {
     "data": {
      "image/png": "[encoded data removed]",
      "text/plain": [
       "<Figure size 640x480 with 1 Axes>"
      ]
     },
     "metadata": {},
     "output_type": "display_data"
    }
   ],
   "source": [
    "#-----------------------------------------------------------\n",
    "# Retrieve a list of list results on training and test data\n",
    "# sets for each training epoch\n",
    "#-----------------------------------------------------------\n",
    "acc=history.history['accuracy']\n",
    "val_acc=history.history['val_accuracy']\n",
    "loss=history.history['loss']\n",
    "val_loss=history.history['val_loss']\n",
    "\n",
    "epochs=range(len(acc)) # Get number of epochs\n",
    "\n",
    "#------------------------------------------------\n",
    "# Plot training and validation accuracy per epoch\n",
    "#------------------------------------------------\n",
    "plt.plot(epochs, acc, 'r', \"Training Accuracy\")\n",
    "plt.plot(epochs, val_acc, 'b', \"Validation Accuracy\")\n",
    "plt.title('Training and validation accuracy')\n",
    "plt.show()\n",
    "print(\"\")\n",
    "\n",
    "#------------------------------------------------\n",
    "# Plot training and validation loss per epoch\n",
    "#------------------------------------------------\n",
    "plt.plot(epochs, loss, 'r', \"Training Loss\")\n",
    "plt.plot(epochs, val_loss, 'b', \"Validation Loss\")\n",
    "plt.show()"
   ]
  },
  {
   "cell_type": "markdown",
   "id": "3288957c",
   "metadata": {
    "id": "NYIaqsN2pav6"
   },
   "source": [
    "You will probably encounter that the model is overfitting, which means that it is doing a great job at classifying the images in the training set but struggles with new data. This is perfectly fine and you will learn how to mitigate this issue in the upcoming week.\n",
    "\n",
    "Before downloading this notebook and closing the assignment, be sure to also download the `history.pkl` file which contains the information of the training history of your model. You can download this file by running the cell below:"
   ]
  },
  {
   "cell_type": "code",
   "execution_count": 43,
   "id": "a724b784",
   "metadata": {
    "id": "yWcrc9nZTsHj",
    "tags": []
   },
   "outputs": [
    {
     "name": "stdout",
     "output_type": "stream",
     "text": [
      "History successfully saved to: c:\\Users\\user\\Downloads\\Workshop\\history.pkl\n"
     ]
    }
   ],
   "source": [
    "import pickle\n",
    "import os \n",
    "\n",
    "def save_history_local(history_obj, filename='history.pkl'):\n",
    "  \"\"\"Saves the training history locally using pickle.\"\"\"\n",
    "  try:\n",
    "      if hasattr(history_obj, 'history') and isinstance(history_obj.history, dict):\n",
    "          with open(filename, 'wb') as f:\n",
    "              pickle.dump(history_obj.history, f)\n",
    "          print(f\"History successfully saved to: {os.path.abspath(filename)}\")\n",
    "      else:\n",
    "          print(\"Error: Input object does not have a valid 'history' attribute (dictionary).\")\n",
    "  except Exception as e:\n",
    "      print(f\"An error occurred while saving the history: {e}\")\n",
    "\n",
    "if 'history' in locals() and history is not None:\n",
    "  save_history_local(history)\n",
    "else:\n",
    "  print(\"Variable 'history' not found or is None. Cannot save history.\")"
   ]
  },
  {
   "cell_type": "markdown",
   "id": "f5cc8c73",
   "metadata": {},
   "source": [
    "## Download your notebook for grading\n",
    "\n",
    "Along with the `history.pkl` file, you will also need to submit your solution notebook for grading. "
   ]
  }
 ],
 "metadata": {
  "accelerator": "GPU",
  "kernelspec": {
   "display_name": "Python 3",
   "language": "python",
   "name": "python3"
  },
  "language_info": {
   "codemirror_mode": {
    "name": "ipython",
    "version": 3
   },
   "file_extension": ".py",
   "mimetype": "text/x-python",
   "name": "python",
   "nbconvert_exporter": "python",
   "pygments_lexer": "ipython3",
   "version": "3.12.8"
  }
 },
 "nbformat": 4,
 "nbformat_minor": 5
}
